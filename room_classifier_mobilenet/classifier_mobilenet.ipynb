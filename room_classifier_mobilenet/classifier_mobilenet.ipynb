{
 "cells": [
  {
   "cell_type": "code",
   "execution_count": 1,
   "metadata": {
    "scrolled": true
   },
   "outputs": [
    {
     "name": "stderr",
     "output_type": "stream",
     "text": [
      "Using TensorFlow backend.\n"
     ]
    }
   ],
   "source": [
    "import numpy as np\n",
    "import pandas as pd\n",
    "from keras.applications import mobilenet_v2\n",
    "import tensorflow as tf"
   ]
  },
  {
   "cell_type": "code",
   "execution_count": 2,
   "metadata": {
    "scrolled": true
   },
   "outputs": [
    {
     "name": "stderr",
     "output_type": "stream",
     "text": [
      "WARNING: Logging before flag parsing goes to stderr.\n",
      "W0917 22:22:29.060880 140092566079296 deprecation_wrapper.py:119] From /home/divyanshu/anaconda3/lib/python3.7/site-packages/keras/backend/tensorflow_backend.py:74: The name tf.get_default_graph is deprecated. Please use tf.compat.v1.get_default_graph instead.\n",
      "\n",
      "W0917 22:22:29.279963 140092566079296 deprecation_wrapper.py:119] From /home/divyanshu/anaconda3/lib/python3.7/site-packages/keras/backend/tensorflow_backend.py:517: The name tf.placeholder is deprecated. Please use tf.compat.v1.placeholder instead.\n",
      "\n",
      "W0917 22:22:29.349554 140092566079296 deprecation_wrapper.py:119] From /home/divyanshu/anaconda3/lib/python3.7/site-packages/keras/backend/tensorflow_backend.py:4138: The name tf.random_uniform is deprecated. Please use tf.random.uniform instead.\n",
      "\n",
      "W0917 22:22:29.416683 140092566079296 deprecation_wrapper.py:119] From /home/divyanshu/anaconda3/lib/python3.7/site-packages/keras/backend/tensorflow_backend.py:174: The name tf.get_default_session is deprecated. Please use tf.compat.v1.get_default_session instead.\n",
      "\n",
      "W0917 22:22:29.418140 140092566079296 deprecation_wrapper.py:119] From /home/divyanshu/anaconda3/lib/python3.7/site-packages/keras/backend/tensorflow_backend.py:181: The name tf.ConfigProto is deprecated. Please use tf.compat.v1.ConfigProto instead.\n",
      "\n",
      "W0917 22:22:29.990823 140092566079296 deprecation_wrapper.py:119] From /home/divyanshu/anaconda3/lib/python3.7/site-packages/keras/backend/tensorflow_backend.py:1834: The name tf.nn.fused_batch_norm is deprecated. Please use tf.compat.v1.nn.fused_batch_norm instead.\n",
      "\n"
     ]
    }
   ],
   "source": [
    "conv_base = mobilenet_v2.MobileNetV2(include_top=False, weights='imagenet',input_shape=(224, 224, 3))\n",
    "conv_base.trainable = False\n"
   ]
  },
  {
   "cell_type": "code",
   "execution_count": 3,
   "metadata": {},
   "outputs": []
   
    }
   ],
   "source": [
    "conv_base.summary()"
   ]
  },
  {
   "cell_type": "code",
   "execution_count": 4,
   "metadata": {},
   "outputs": [],
   "source": [
    "import os\n",
    "import numpy as np\n",
    "from keras.preprocessing.image import ImageDataGenerator"
   ]
  },
  {
   "cell_type": "code",
   "execution_count": 7,
   "metadata": {},
   "outputs": [],
   "source": [
    "from keras import models\n",
    "from keras import layers\n",
    "from keras import optimizers\n",
    "model = models.Sequential()\n",
    "model.add(conv_base)\n",
    "model.add(layers.Flatten())\n",
    "model.add(layers.Dense(512, activation='relu'))\n",
    "model.add(layers.Dropout(0.4))\n",
    "model.add(layers.Dense(256, activation='relu'))\n",
    "model.add(layers.Dropout(0.2))\n",
    "model.add(layers.Dense(2, activation = 'softmax'))"
   ]
  },
  {
   "cell_type": "code",
   "execution_count": 8,
   "metadata": {
    "scrolled": true
   },
   "outputs": [
    {
     "name": "stdout",
     "output_type": "stream",
     "text": [
      "Found 5614 images belonging to 2 classes.\n",
      "Found 1835 images belonging to 2 classes.\n",
      "Epoch 1/10\n",
      "25/25 [==============================] - 51s 2s/step - loss: 0.7145 - acc: 0.7440 - val_loss: 0.2803 - val_acc: 0.9200\n",
      "Epoch 2/10\n",
      "25/25 [==============================] - 41s 2s/step - loss: 0.5128 - acc: 0.8200 - val_loss: 0.0458 - val_acc: 1.0000\n",
      "Epoch 3/10\n",
      "25/25 [==============================] - 41s 2s/step - loss: 0.3378 - acc: 0.8760 - val_loss: 0.0997 - val_acc: 0.9600\n",
      "Epoch 4/10\n",
      "25/25 [==============================] - 42s 2s/step - loss: 0.3349 - acc: 0.8800 - val_loss: 0.1409 - val_acc: 0.9600\n",
      "Epoch 5/10\n",
      "25/25 [==============================] - 42s 2s/step - loss: 0.2417 - acc: 0.8880 - val_loss: 0.3670 - val_acc: 0.9200\n",
      "Epoch 6/10\n",
      "25/25 [==============================] - 42s 2s/step - loss: 0.3388 - acc: 0.8760 - val_loss: 0.4068 - val_acc: 0.9400\n",
      "Epoch 7/10\n",
      "25/25 [==============================] - 42s 2s/step - loss: 0.3443 - acc: 0.8880 - val_loss: 0.1389 - val_acc: 0.9400\n",
      "Epoch 8/10\n",
      "25/25 [==============================] - 43s 2s/step - loss: 0.2598 - acc: 0.9120 - val_loss: 0.0301 - val_acc: 0.9800\n",
      "Epoch 9/10\n",
      "25/25 [==============================] - 41s 2s/step - loss: 0.3305 - acc: 0.9080 - val_loss: 0.0758 - val_acc: 0.9800\n",
      "Epoch 10/10\n",
      "25/25 [==============================] - 43s 2s/step - loss: 0.3391 - acc: 0.8800 - val_loss: 0.0893 - val_acc: 0.9400\n"
     ]
    }
   ],
   "source": [
    "#train_datagen = ImageDataGenerator(rescale=1./255,rotation_range=40,width_shift_range=0.2,\n",
    "#height_shift_range=0.2,shear_range=0.2,zoom_range=0.2,horizontal_flip=True,fill_mode='nearest')\n",
    "\n",
    "train_datagen = ImageDataGenerator(rescale=1./255)\n",
    "test_datagen = ImageDataGenerator(rescale=1./255)\n",
    "\n",
    "train_generator = train_datagen.flow_from_directory(\"train\",target_size=(224 , 224),batch_size=10)\n",
    "\n",
    "validation_generator = test_datagen.flow_from_directory(\"lsun_test\",target_size=(224, 224),batch_size=10)\n",
    "\n",
    "model.compile(loss='categorical_crossentropy',optimizer=optimizers.RMSprop(lr=2e-5),metrics=['acc'])\n",
    "\n",
    "history = model.fit_generator(train_generator,steps_per_epoch=25,epochs=10,validation_data=validation_generator,validation_steps=5)"
   ]
  },
  {
   "cell_type": "code",
   "execution_count": 9,
   "metadata": {},
   "outputs": [
    {
     "name": "stdout",
     "output_type": "stream",
     "text": []
    }
   ],
   "source": [
    "a = conv_base.layers\n",
    "set_trainable= False\n",
    "for layer in a:\n",
    "    print(layer.name)\n",
    "    if (layer.name == 'batch_16_expand' or 'batch_15_expand' or 'batch_14_expand' or 'batch_12_expand' or 'batch_13_expand'):\n",
    "        set_trainable=True\n",
    "    if set_trainable:\n",
    "        layer.trainable = True\n",
    "    else:\n",
    "        layer.trainable = False"
   ]
  },
  {
   "cell_type": "code",
   "execution_count": 10,
   "metadata": {
    "scrolled": true
   },
   "outputs": [
    {
     "name": "stdout",
     "output_type": "stream",
     "text": [
      "Epoch 1/10\n",
      "25/25 [==============================] - 47s 2s/step - loss: 0.4300 - acc: 0.8920 - val_loss: 0.9714 - val_acc: 0.8800\n",
      "Epoch 2/10\n",
      "25/25 [==============================] - 39s 2s/step - loss: 0.1937 - acc: 0.9400 - val_loss: 0.1399 - val_acc: 0.9600\n",
      "Epoch 3/10\n",
      "25/25 [==============================] - 39s 2s/step - loss: 0.2817 - acc: 0.9320 - val_loss: 0.0597 - val_acc: 0.9600\n",
      "Epoch 4/10\n",
      "25/25 [==============================] - 40s 2s/step - loss: 0.3548 - acc: 0.9160 - val_loss: 0.1387 - val_acc: 0.9400\n",
      "Epoch 5/10\n",
      "25/25 [==============================] - 41s 2s/step - loss: 0.3316 - acc: 0.9120 - val_loss: 0.8876 - val_acc: 0.9200\n",
      "Epoch 6/10\n",
      "25/25 [==============================] - 41s 2s/step - loss: 0.1298 - acc: 0.9520 - val_loss: 0.1894 - val_acc: 0.9600\n",
      "Epoch 7/10\n",
      "25/25 [==============================] - 41s 2s/step - loss: 0.4117 - acc: 0.8920 - val_loss: 0.3148 - val_acc: 0.9600\n",
      "Epoch 8/10\n",
      "25/25 [==============================] - 40s 2s/step - loss: 0.1840 - acc: 0.9600 - val_loss: 0.3615 - val_acc: 0.9400\n",
      "Epoch 9/10\n",
      "25/25 [==============================] - 40s 2s/step - loss: 0.2188 - acc: 0.9320 - val_loss: 0.0681 - val_acc: 0.9800\n",
      "Epoch 10/10\n",
      "25/25 [==============================] - 40s 2s/step - loss: 0.5144 - acc: 0.8600 - val_loss: 0.2722 - val_acc: 0.9600\n"
     ]
    }
   ],
   "source": [
    "model.compile(loss='categorical_crossentropy',optimizer=optimizers.RMSprop(lr=1e-5),metrics=['acc'])\n",
    "\n",
    "history = model.fit_generator(train_generator,steps_per_epoch=25,epochs=10,validation_data=validation_generator,validation_steps=5)"
   ]
  },
  {
   "cell_type": "code",
   "execution_count": 12,
   "metadata": {},
   "outputs": [
    {
     "data": {
      "image/png": "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\n",
      "text/plain": [
       "<Figure size 432x288 with 1 Axes>"
      ]
     },
     "metadata": {
      "needs_background": "light"
     },
     "output_type": "display_data"
    },
    {
     "data": {
      "image/png": "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\n",
      "text/plain": [
       "<Figure size 432x288 with 1 Axes>"
      ]
     },
     "metadata": {
      "needs_background": "light"
     },
     "output_type": "display_data"
    }
   ],
   "source": [
    "import matplotlib.pyplot as plt\n",
    "acc = history.history['acc']\n",
    "val_acc = history.history['val_acc']\n",
    "loss = history.history['loss']\n",
    "val_loss = history.history['val_loss']\n",
    "epochs = range(1, len(acc) + 1)\n",
    "plt.plot(epochs, acc, 'bo', label='Training acc')\n",
    "plt.plot(epochs, val_acc, 'b', label='Validation acc')\n",
    "plt.title('Training and validation accuracy')\n",
    "plt.legend()\n",
    "plt.figure()\n",
    "plt.plot(epochs, loss, 'bo', label='Training loss')\n",
    "plt.plot(epochs, val_loss, 'b', label='Validation loss')\n",
    "plt.title('Training and validation loss')\n",
    "plt.legend()\n",
    "plt.show()"
   ]
  },
  {
   "cell_type": "code",
   "execution_count": null,
   "metadata": {},
   "outputs": [],
   "source": []
  },
  {
   "cell_type": "code",
   "execution_count": null,
   "metadata": {},
   "outputs": [],
   "source": []
  }
 ],
 "metadata": {
  "kernelspec": {
   "display_name": "Python 3",
   "language": "python",
   "name": "python3"
  },
  "language_info": {
   "codemirror_mode": {
    "name": "ipython",
    "version": 3
   },
   "file_extension": ".py",
   "mimetype": "text/x-python",
   "name": "python",
   "nbconvert_exporter": "python",
   "pygments_lexer": "ipython3",
   "version": "3.7.3"
  }
 },
 "nbformat": 4,
 "nbformat_minor": 2
}
